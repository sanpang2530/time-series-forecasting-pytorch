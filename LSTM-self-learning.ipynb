{
 "cells": [
  {
   "cell_type": "code",
   "id": "initial_id",
   "metadata": {
    "collapsed": true,
    "ExecuteTime": {
     "end_time": "2024-08-20T09:07:02.930731Z",
     "start_time": "2024-08-20T09:07:00.091423Z"
    }
   },
   "source": [
    "import ccxt\n",
    "import pandas as pd\n",
    "\n",
    "# 初始化Binance客户端\n",
    "binance = ccxt.binance()\n",
    "\n",
    "# 获取BTC/USDT的历史数据\n",
    "def fetch_data(symbol='ETH/USDT', timeframe='15m', limit=500):\n",
    "    ohlcv = binance.fetch_ohlcv(symbol, timeframe=timeframe, limit=limit)\n",
    "    df = pd.DataFrame(ohlcv, columns=['timestamp', 'open', 'high', 'low', 'close', 'volume'])\n",
    "    df['timestamp'] = pd.to_datetime(df['timestamp'], unit='ms')\n",
    "    return df\n",
    "\n",
    "data = fetch_data()\n",
    "print(data.tail())"
   ],
   "outputs": [
    {
     "name": "stdout",
     "output_type": "stream",
     "text": [
      "              timestamp     open     high      low    close     volume\n",
      "495 2024-08-20 08:00:00  2674.81  2676.40  2665.11  2666.37  2575.8590\n",
      "496 2024-08-20 08:15:00  2666.36  2667.74  2658.83  2661.34  1863.7497\n",
      "497 2024-08-20 08:30:00  2661.35  2663.20  2657.40  2661.99  1702.2825\n",
      "498 2024-08-20 08:45:00  2661.98  2664.87  2658.85  2661.20  1101.3328\n",
      "499 2024-08-20 09:00:00  2661.20  2665.00  2660.41  2665.00  1156.9899\n"
     ]
    }
   ],
   "execution_count": 7
  },
  {
   "metadata": {
    "ExecuteTime": {
     "end_time": "2024-08-20T07:40:58.050007Z",
     "start_time": "2024-08-20T07:40:57.228962Z"
    }
   },
   "cell_type": "code",
   "source": [
    "import torch\n",
    "import torch.nn as nn\n",
    "\n",
    "class LSTMModel(nn.Module):\n",
    "    def __init__(self, input_size=1, hidden_size=50, num_layers=2, output_size=1):\n",
    "        super(LSTMModel, self).__init__()\n",
    "        self.hidden_size = hidden_size\n",
    "        self.num_layers = num_layers\n",
    "        self.lstm = nn.LSTM(input_size, hidden_size, num_layers, batch_first=True)\n",
    "        self.fc = nn.Linear(hidden_size, output_size)\n",
    "\n",
    "    def forward(self, x):\n",
    "        h0 = torch.zeros(self.num_layers, x.size(0), self.hidden_size).to(x.device)\n",
    "        c0 = torch.zeros(self.num_layers, x.size(0), self.hidden_size).to(x.device)\n",
    "        out, _ = self.lstm(x, (h0, c0))\n",
    "        out = self.fc(out[:, -1, :])\n",
    "        return out\n",
    "\n",
    "model = LSTMModel()"
   ],
   "id": "17990fe2bd0deade",
   "outputs": [],
   "execution_count": 2
  },
  {
   "metadata": {
    "ExecuteTime": {
     "end_time": "2024-08-20T09:12:14.207263Z",
     "start_time": "2024-08-20T09:12:13.719860Z"
    }
   },
   "cell_type": "code",
   "source": [
    "from sklearn.preprocessing import MinMaxScaler\n",
    "from torch.utils.data import DataLoader, TensorDataset\n",
    "import numpy as np\n",
    "\n",
    "# 数据归一化\n",
    "scaler = MinMaxScaler(feature_range=(-1, 1))\n",
    "data['scaled_close'] = scaler.fit_transform(data['close'].values.reshape(-1, 1))\n",
    "\n",
    "# 准备训练数据\n",
    "def create_sequences(data, seq_length):\n",
    "    sequences = []\n",
    "    for i in range(len(data) - seq_length):\n",
    "        seq = data[i:i + seq_length]\n",
    "        label = data[i + seq_length]\n",
    "        sequences.append((seq, label))\n",
    "    return sequences\n",
    "\n",
    "seq_length = 10\n",
    "sequences = create_sequences(data['scaled_close'].values, seq_length)\n",
    "\n",
    "# 转换为Tensor\n",
    "# X = np.concatenate([s[0].unsqueeze(-1) for s in sequences], axis=0).astype(np.float32)\n",
    "# y = np.concatenate([s[1].unsqueeze(-1) for s in sequences], axis=0).astype(np.float32)\n",
    "# X = torch.from_numpy(X)\n",
    "# y = torch.from_numpy(y)\n",
    "X = torch.tensor([s[0] for s in sequences], dtype=torch.float32).unsqueeze(-1)\n",
    "y = torch.tensor([s[1] for s in sequences], dtype=torch.float32).unsqueeze(-1)\n",
    "\n",
    "train_dataset = TensorDataset(X, y)\n",
    "train_loader = DataLoader(train_dataset, batch_size=32, shuffle=True)\n",
    "\n",
    "# 损失函数和优化器\n",
    "criterion = nn.MSELoss()\n",
    "optimizer = torch.optim.Adam(model.parameters(), lr=0.001)\n",
    "\n",
    "# 训练模型\n",
    "epochs = 10\n",
    "for epoch in range(epochs):\n",
    "    for X_batch, y_batch in train_loader:\n",
    "        optimizer.zero_grad()\n",
    "        output = model(X_batch)\n",
    "        loss = criterion(output, y_batch)\n",
    "        loss.backward()\n",
    "        optimizer.step()\n",
    "    print(f'Epoch [{epoch+1}/{epochs}], Loss: {loss.item():.4f}')"
   ],
   "id": "de7e74a3aad297db",
   "outputs": [
    {
     "name": "stdout",
     "output_type": "stream",
     "text": [
      "Epoch [1/10], Loss: 0.0317\n",
      "Epoch [2/10], Loss: 0.0139\n",
      "Epoch [3/10], Loss: 0.0707\n",
      "Epoch [4/10], Loss: 0.0060\n",
      "Epoch [5/10], Loss: 0.0099\n",
      "Epoch [6/10], Loss: 0.0093\n",
      "Epoch [7/10], Loss: 0.0061\n",
      "Epoch [8/10], Loss: 0.0068\n",
      "Epoch [9/10], Loss: 0.0054\n",
      "Epoch [10/10], Loss: 0.0041\n"
     ]
    }
   ],
   "execution_count": 11
  },
  {
   "metadata": {
    "ExecuteTime": {
     "end_time": "2024-08-20T09:14:08.079961Z",
     "start_time": "2024-08-20T09:14:08.033729Z"
    }
   },
   "cell_type": "code",
   "source": [
    "import numpy as np\n",
    "\n",
    "# 模拟持仓状态\n",
    "current_position = None  # None, \"long\", \"short\"\n",
    "\n",
    "# 模拟交易函数\n",
    "def execute_trade(prediction, current_price, amount=0.001, symbol='BTC/USDT'):\n",
    "    global current_position\n",
    "    \n",
    "    if prediction > current_price:\n",
    "        if current_position == 'short':\n",
    "            # 清空做空仓位\n",
    "            print(\"清空做空仓位\")\n",
    "            binance.create_market_buy_order(symbol, amount)\n",
    "            current_position = None\n",
    "        if current_position is None:\n",
    "            # 买入做多\n",
    "            print(f\"买入 {amount} BTC\")\n",
    "            binance.create_market_buy_order(symbol, amount)\n",
    "            current_position = 'long'\n",
    "    elif prediction < current_price:\n",
    "        if current_position == 'long':\n",
    "            # 清空做多仓位\n",
    "            print(\"清空做多仓位\")\n",
    "            binance.create_market_sell_order(symbol, amount)\n",
    "            current_position = None\n",
    "        if current_position is None:\n",
    "            # 卖出做空\n",
    "            print(f\"卖出 {amount} BTC\")\n",
    "            binance.create_market_sell_order(symbol, amount)\n",
    "            current_position = 'short'\n",
    "\n",
    "# 实时预测与交易\n",
    "def trade():\n",
    "    current_price = data['close'].iloc[-1]\n",
    "    prediction = predict(model, data['scaled_close'].values, seq_length)\n",
    "    predicted_price = scaler.inverse_transform([[prediction]])[0, 0]\n",
    "    print(f\"当前价格: {current_price}, 预测价格: {predicted_price}\")\n",
    "    \n",
    "    execute_trade(predicted_price, current_price)\n",
    "\n",
    "trade()"
   ],
   "id": "568a1e3a832612d3",
   "outputs": [
    {
     "ename": "NameError",
     "evalue": "name 'predict' is not defined",
     "output_type": "error",
     "traceback": [
      "\u001B[0;31m---------------------------------------------------------------------------\u001B[0m",
      "\u001B[0;31mNameError\u001B[0m                                 Traceback (most recent call last)",
      "Cell \u001B[0;32mIn[12], line 42\u001B[0m\n\u001B[1;32m     38\u001B[0m     \u001B[38;5;28mprint\u001B[39m(\u001B[38;5;124mf\u001B[39m\u001B[38;5;124m\"\u001B[39m\u001B[38;5;124m当前价格: \u001B[39m\u001B[38;5;132;01m{\u001B[39;00mcurrent_price\u001B[38;5;132;01m}\u001B[39;00m\u001B[38;5;124m, 预测价格: \u001B[39m\u001B[38;5;132;01m{\u001B[39;00mpredicted_price\u001B[38;5;132;01m}\u001B[39;00m\u001B[38;5;124m\"\u001B[39m)\n\u001B[1;32m     40\u001B[0m     execute_trade(predicted_price, current_price)\n\u001B[0;32m---> 42\u001B[0m \u001B[43mtrade\u001B[49m\u001B[43m(\u001B[49m\u001B[43m)\u001B[49m\n",
      "Cell \u001B[0;32mIn[12], line 36\u001B[0m, in \u001B[0;36mtrade\u001B[0;34m()\u001B[0m\n\u001B[1;32m     34\u001B[0m \u001B[38;5;28;01mdef\u001B[39;00m \u001B[38;5;21mtrade\u001B[39m():\n\u001B[1;32m     35\u001B[0m     current_price \u001B[38;5;241m=\u001B[39m data[\u001B[38;5;124m'\u001B[39m\u001B[38;5;124mclose\u001B[39m\u001B[38;5;124m'\u001B[39m]\u001B[38;5;241m.\u001B[39miloc[\u001B[38;5;241m-\u001B[39m\u001B[38;5;241m1\u001B[39m]\n\u001B[0;32m---> 36\u001B[0m     prediction \u001B[38;5;241m=\u001B[39m \u001B[43mpredict\u001B[49m(model, data[\u001B[38;5;124m'\u001B[39m\u001B[38;5;124mscaled_close\u001B[39m\u001B[38;5;124m'\u001B[39m]\u001B[38;5;241m.\u001B[39mvalues, seq_length)\n\u001B[1;32m     37\u001B[0m     predicted_price \u001B[38;5;241m=\u001B[39m scaler\u001B[38;5;241m.\u001B[39minverse_transform([[prediction]])[\u001B[38;5;241m0\u001B[39m, \u001B[38;5;241m0\u001B[39m]\n\u001B[1;32m     38\u001B[0m     \u001B[38;5;28mprint\u001B[39m(\u001B[38;5;124mf\u001B[39m\u001B[38;5;124m\"\u001B[39m\u001B[38;5;124m当前价格: \u001B[39m\u001B[38;5;132;01m{\u001B[39;00mcurrent_price\u001B[38;5;132;01m}\u001B[39;00m\u001B[38;5;124m, 预测价格: \u001B[39m\u001B[38;5;132;01m{\u001B[39;00mpredicted_price\u001B[38;5;132;01m}\u001B[39;00m\u001B[38;5;124m\"\u001B[39m)\n",
      "\u001B[0;31mNameError\u001B[0m: name 'predict' is not defined"
     ]
    }
   ],
   "execution_count": 12
  },
  {
   "metadata": {},
   "cell_type": "code",
   "outputs": [],
   "execution_count": null,
   "source": [
    "def update_model():\n",
    "    new_data = fetch_data()  # 获取新的数据\n",
    "    data = pd.concat([data, new_data]).drop_duplicates().reset_index(drop=True)\n",
    "    \n",
    "    # 更新训练集\n",
    "    sequences = create_sequences(data['scaled_close'].values, seq_length)\n",
    "    X = torch.tensor([s[0] for s in sequences], dtype=torch.float32).unsqueeze(-1)\n",
    "    y = torch.tensor([s[1] for s in sequences], dtype=torch.float32).unsqueeze(-1)\n",
    "    \n",
    "    train_dataset = TensorDataset(X, y)\n",
    "    train_loader = DataLoader(train_dataset, batch_size=32, shuffle=True)\n",
    "    \n",
    "    # 再次训练模型\n",
    "    for epoch in range(epochs):\n",
    "        for X_batch, y_batch in train_loader:\n",
    "            optimizer.zero_grad()\n",
    "            output = model(X_batch)\n",
    "            loss = criterion(output, y_batch)\n",
    "            loss.backward()\n",
    "            optimizer.step()\n",
    "        print(f'更新模型 - Epoch [{epoch+1}/{epochs}], Loss: {loss.item():.4f}')\n",
    "\n",
    "# 周期性更新模型\n",
    "update_model()"
   ],
   "id": "b1c565e029bde1b8"
  }
 ],
 "metadata": {
  "kernelspec": {
   "display_name": "Python 3",
   "language": "python",
   "name": "python3"
  },
  "language_info": {
   "codemirror_mode": {
    "name": "ipython",
    "version": 2
   },
   "file_extension": ".py",
   "mimetype": "text/x-python",
   "name": "python",
   "nbconvert_exporter": "python",
   "pygments_lexer": "ipython2",
   "version": "2.7.6"
  }
 },
 "nbformat": 4,
 "nbformat_minor": 5
}
